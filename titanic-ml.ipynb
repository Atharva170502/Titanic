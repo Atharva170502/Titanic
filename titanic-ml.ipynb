{
 "cells": [
  {
   "cell_type": "code",
   "execution_count": 1,
   "id": "248fab7f",
   "metadata": {
    "_cell_guid": "b1076dfc-b9ad-4769-8c92-a6c4dae69d19",
    "_uuid": "8f2839f25d086af736a60e9eeb907d3b93b6e0e5",
    "execution": {
     "iopub.execute_input": "2024-06-02T14:15:07.413496Z",
     "iopub.status.busy": "2024-06-02T14:15:07.413064Z",
     "iopub.status.idle": "2024-06-02T14:15:08.250503Z",
     "shell.execute_reply": "2024-06-02T14:15:08.249114Z"
    },
    "papermill": {
     "duration": 0.847611,
     "end_time": "2024-06-02T14:15:08.254270",
     "exception": false,
     "start_time": "2024-06-02T14:15:07.406659",
     "status": "completed"
    },
    "tags": []
   },
   "outputs": [
    {
     "name": "stdout",
     "output_type": "stream",
     "text": [
      "/kaggle/input/titanic/train.csv\n",
      "/kaggle/input/titanic/test.csv\n",
      "/kaggle/input/titanic/gender_submission.csv\n"
     ]
    }
   ],
   "source": [
    "# This Python 3 environment comes with many helpful analytics libraries installed\n",
    "# It is defined by the kaggle/python Docker image: https://github.com/kaggle/docker-python\n",
    "# For example, here's several helpful packages to load\n",
    "\n",
    "import numpy as np # linear algebra\n",
    "import pandas as pd # data processing, CSV file I/O (e.g. pd.read_csv)\n",
    "\n",
    "# Input data files are available in the read-only \"../input/\" directory\n",
    "# For example, running this (by clicking run or pressing Shift+Enter) will list all files under the input directory\n",
    "\n",
    "import os\n",
    "for dirname, _, filenames in os.walk('/kaggle/input'):\n",
    "    for filename in filenames:\n",
    "        print(os.path.join(dirname, filename))\n",
    "\n",
    "# You can write up to 20GB to the current directory (/kaggle/working/) that gets preserved as output when you create a version using \"Save & Run All\" \n",
    "# You can also write temporary files to /kaggle/temp/, but they won't be saved outside of the current session"
   ]
  },
  {
   "cell_type": "code",
   "execution_count": 2,
   "id": "5467d027",
   "metadata": {
    "execution": {
     "iopub.execute_input": "2024-06-02T14:15:08.265623Z",
     "iopub.status.busy": "2024-06-02T14:15:08.265132Z",
     "iopub.status.idle": "2024-06-02T14:15:08.307609Z",
     "shell.execute_reply": "2024-06-02T14:15:08.306474Z"
    },
    "papermill": {
     "duration": 0.050941,
     "end_time": "2024-06-02T14:15:08.309818",
     "exception": false,
     "start_time": "2024-06-02T14:15:08.258877",
     "status": "completed"
    },
    "tags": []
   },
   "outputs": [
    {
     "data": {
      "text/html": [
       "<div>\n",
       "<style scoped>\n",
       "    .dataframe tbody tr th:only-of-type {\n",
       "        vertical-align: middle;\n",
       "    }\n",
       "\n",
       "    .dataframe tbody tr th {\n",
       "        vertical-align: top;\n",
       "    }\n",
       "\n",
       "    .dataframe thead th {\n",
       "        text-align: right;\n",
       "    }\n",
       "</style>\n",
       "<table border=\"1\" class=\"dataframe\">\n",
       "  <thead>\n",
       "    <tr style=\"text-align: right;\">\n",
       "      <th></th>\n",
       "      <th>PassengerId</th>\n",
       "      <th>Survived</th>\n",
       "      <th>Pclass</th>\n",
       "      <th>Name</th>\n",
       "      <th>Sex</th>\n",
       "      <th>Age</th>\n",
       "      <th>SibSp</th>\n",
       "      <th>Parch</th>\n",
       "      <th>Ticket</th>\n",
       "      <th>Fare</th>\n",
       "      <th>Cabin</th>\n",
       "      <th>Embarked</th>\n",
       "    </tr>\n",
       "  </thead>\n",
       "  <tbody>\n",
       "    <tr>\n",
       "      <th>0</th>\n",
       "      <td>1</td>\n",
       "      <td>0</td>\n",
       "      <td>3</td>\n",
       "      <td>Braund, Mr. Owen Harris</td>\n",
       "      <td>male</td>\n",
       "      <td>22.0</td>\n",
       "      <td>1</td>\n",
       "      <td>0</td>\n",
       "      <td>A/5 21171</td>\n",
       "      <td>7.2500</td>\n",
       "      <td>NaN</td>\n",
       "      <td>S</td>\n",
       "    </tr>\n",
       "    <tr>\n",
       "      <th>1</th>\n",
       "      <td>2</td>\n",
       "      <td>1</td>\n",
       "      <td>1</td>\n",
       "      <td>Cumings, Mrs. John Bradley (Florence Briggs Th...</td>\n",
       "      <td>female</td>\n",
       "      <td>38.0</td>\n",
       "      <td>1</td>\n",
       "      <td>0</td>\n",
       "      <td>PC 17599</td>\n",
       "      <td>71.2833</td>\n",
       "      <td>C85</td>\n",
       "      <td>C</td>\n",
       "    </tr>\n",
       "    <tr>\n",
       "      <th>2</th>\n",
       "      <td>3</td>\n",
       "      <td>1</td>\n",
       "      <td>3</td>\n",
       "      <td>Heikkinen, Miss. Laina</td>\n",
       "      <td>female</td>\n",
       "      <td>26.0</td>\n",
       "      <td>0</td>\n",
       "      <td>0</td>\n",
       "      <td>STON/O2. 3101282</td>\n",
       "      <td>7.9250</td>\n",
       "      <td>NaN</td>\n",
       "      <td>S</td>\n",
       "    </tr>\n",
       "    <tr>\n",
       "      <th>3</th>\n",
       "      <td>4</td>\n",
       "      <td>1</td>\n",
       "      <td>1</td>\n",
       "      <td>Futrelle, Mrs. Jacques Heath (Lily May Peel)</td>\n",
       "      <td>female</td>\n",
       "      <td>35.0</td>\n",
       "      <td>1</td>\n",
       "      <td>0</td>\n",
       "      <td>113803</td>\n",
       "      <td>53.1000</td>\n",
       "      <td>C123</td>\n",
       "      <td>S</td>\n",
       "    </tr>\n",
       "    <tr>\n",
       "      <th>4</th>\n",
       "      <td>5</td>\n",
       "      <td>0</td>\n",
       "      <td>3</td>\n",
       "      <td>Allen, Mr. William Henry</td>\n",
       "      <td>male</td>\n",
       "      <td>35.0</td>\n",
       "      <td>0</td>\n",
       "      <td>0</td>\n",
       "      <td>373450</td>\n",
       "      <td>8.0500</td>\n",
       "      <td>NaN</td>\n",
       "      <td>S</td>\n",
       "    </tr>\n",
       "  </tbody>\n",
       "</table>\n",
       "</div>"
      ],
      "text/plain": [
       "   PassengerId  Survived  Pclass  \\\n",
       "0            1         0       3   \n",
       "1            2         1       1   \n",
       "2            3         1       3   \n",
       "3            4         1       1   \n",
       "4            5         0       3   \n",
       "\n",
       "                                                Name     Sex   Age  SibSp  \\\n",
       "0                            Braund, Mr. Owen Harris    male  22.0      1   \n",
       "1  Cumings, Mrs. John Bradley (Florence Briggs Th...  female  38.0      1   \n",
       "2                             Heikkinen, Miss. Laina  female  26.0      0   \n",
       "3       Futrelle, Mrs. Jacques Heath (Lily May Peel)  female  35.0      1   \n",
       "4                           Allen, Mr. William Henry    male  35.0      0   \n",
       "\n",
       "   Parch            Ticket     Fare Cabin Embarked  \n",
       "0      0         A/5 21171   7.2500   NaN        S  \n",
       "1      0          PC 17599  71.2833   C85        C  \n",
       "2      0  STON/O2. 3101282   7.9250   NaN        S  \n",
       "3      0            113803  53.1000  C123        S  \n",
       "4      0            373450   8.0500   NaN        S  "
      ]
     },
     "execution_count": 2,
     "metadata": {},
     "output_type": "execute_result"
    }
   ],
   "source": [
    "titanic = pd.read_csv(\"/kaggle/input/titanic/train.csv\")\n",
    "titanic.head()"
   ]
  },
  {
   "cell_type": "code",
   "execution_count": 3,
   "id": "5af0545b",
   "metadata": {
    "execution": {
     "iopub.execute_input": "2024-06-02T14:15:08.321212Z",
     "iopub.status.busy": "2024-06-02T14:15:08.320077Z",
     "iopub.status.idle": "2024-06-02T14:15:08.344879Z",
     "shell.execute_reply": "2024-06-02T14:15:08.343795Z"
    },
    "papermill": {
     "duration": 0.033023,
     "end_time": "2024-06-02T14:15:08.347371",
     "exception": false,
     "start_time": "2024-06-02T14:15:08.314348",
     "status": "completed"
    },
    "tags": []
   },
   "outputs": [
    {
     "name": "stdout",
     "output_type": "stream",
     "text": [
      "<class 'pandas.core.frame.DataFrame'>\n",
      "RangeIndex: 891 entries, 0 to 890\n",
      "Data columns (total 12 columns):\n",
      " #   Column       Non-Null Count  Dtype  \n",
      "---  ------       --------------  -----  \n",
      " 0   PassengerId  891 non-null    int64  \n",
      " 1   Survived     891 non-null    int64  \n",
      " 2   Pclass       891 non-null    int64  \n",
      " 3   Name         891 non-null    object \n",
      " 4   Sex          891 non-null    object \n",
      " 5   Age          714 non-null    float64\n",
      " 6   SibSp        891 non-null    int64  \n",
      " 7   Parch        891 non-null    int64  \n",
      " 8   Ticket       891 non-null    object \n",
      " 9   Fare         891 non-null    float64\n",
      " 10  Cabin        204 non-null    object \n",
      " 11  Embarked     889 non-null    object \n",
      "dtypes: float64(2), int64(5), object(5)\n",
      "memory usage: 83.7+ KB\n"
     ]
    }
   ],
   "source": [
    "titanic.info()"
   ]
  },
  {
   "cell_type": "code",
   "execution_count": 4,
   "id": "41d6b20b",
   "metadata": {
    "execution": {
     "iopub.execute_input": "2024-06-02T14:15:08.358729Z",
     "iopub.status.busy": "2024-06-02T14:15:08.357810Z",
     "iopub.status.idle": "2024-06-02T14:15:08.373415Z",
     "shell.execute_reply": "2024-06-02T14:15:08.372388Z"
    },
    "papermill": {
     "duration": 0.023514,
     "end_time": "2024-06-02T14:15:08.375542",
     "exception": false,
     "start_time": "2024-06-02T14:15:08.352028",
     "status": "completed"
    },
    "tags": []
   },
   "outputs": [
    {
     "data": {
      "text/html": [
       "<div>\n",
       "<style scoped>\n",
       "    .dataframe tbody tr th:only-of-type {\n",
       "        vertical-align: middle;\n",
       "    }\n",
       "\n",
       "    .dataframe tbody tr th {\n",
       "        vertical-align: top;\n",
       "    }\n",
       "\n",
       "    .dataframe thead th {\n",
       "        text-align: right;\n",
       "    }\n",
       "</style>\n",
       "<table border=\"1\" class=\"dataframe\">\n",
       "  <thead>\n",
       "    <tr style=\"text-align: right;\">\n",
       "      <th></th>\n",
       "      <th>PassengerId</th>\n",
       "      <th>Survived</th>\n",
       "      <th>Pclass</th>\n",
       "      <th>Name</th>\n",
       "      <th>Sex</th>\n",
       "      <th>Age</th>\n",
       "      <th>SibSp</th>\n",
       "      <th>Parch</th>\n",
       "      <th>Ticket</th>\n",
       "      <th>Fare</th>\n",
       "      <th>Cabin</th>\n",
       "      <th>Embarked</th>\n",
       "    </tr>\n",
       "  </thead>\n",
       "  <tbody>\n",
       "    <tr>\n",
       "      <th>0</th>\n",
       "      <td>1</td>\n",
       "      <td>False</td>\n",
       "      <td>3</td>\n",
       "      <td>Braund, Mr. Owen Harris</td>\n",
       "      <td>male</td>\n",
       "      <td>22.0</td>\n",
       "      <td>1</td>\n",
       "      <td>0</td>\n",
       "      <td>A/5 21171</td>\n",
       "      <td>7.2500</td>\n",
       "      <td>NaN</td>\n",
       "      <td>S</td>\n",
       "    </tr>\n",
       "    <tr>\n",
       "      <th>1</th>\n",
       "      <td>2</td>\n",
       "      <td>True</td>\n",
       "      <td>1</td>\n",
       "      <td>Cumings, Mrs. John Bradley (Florence Briggs Th...</td>\n",
       "      <td>female</td>\n",
       "      <td>38.0</td>\n",
       "      <td>1</td>\n",
       "      <td>0</td>\n",
       "      <td>PC 17599</td>\n",
       "      <td>71.2833</td>\n",
       "      <td>C85</td>\n",
       "      <td>C</td>\n",
       "    </tr>\n",
       "  </tbody>\n",
       "</table>\n",
       "</div>"
      ],
      "text/plain": [
       "   PassengerId  Survived  Pclass  \\\n",
       "0            1     False       3   \n",
       "1            2      True       1   \n",
       "\n",
       "                                                Name     Sex   Age  SibSp  \\\n",
       "0                            Braund, Mr. Owen Harris    male  22.0      1   \n",
       "1  Cumings, Mrs. John Bradley (Florence Briggs Th...  female  38.0      1   \n",
       "\n",
       "   Parch     Ticket     Fare Cabin Embarked  \n",
       "0      0  A/5 21171   7.2500   NaN        S  \n",
       "1      0   PC 17599  71.2833   C85        C  "
      ]
     },
     "execution_count": 4,
     "metadata": {},
     "output_type": "execute_result"
    }
   ],
   "source": [
    "titanic['Survived'] = titanic['Survived'].astype('bool')\n",
    "titanic.head(2)"
   ]
  },
  {
   "cell_type": "code",
   "execution_count": 5,
   "id": "4e2765fd",
   "metadata": {
    "execution": {
     "iopub.execute_input": "2024-06-02T14:15:08.387068Z",
     "iopub.status.busy": "2024-06-02T14:15:08.386211Z",
     "iopub.status.idle": "2024-06-02T14:15:08.394833Z",
     "shell.execute_reply": "2024-06-02T14:15:08.393871Z"
    },
    "papermill": {
     "duration": 0.016651,
     "end_time": "2024-06-02T14:15:08.396954",
     "exception": false,
     "start_time": "2024-06-02T14:15:08.380303",
     "status": "completed"
    },
    "tags": []
   },
   "outputs": [
    {
     "data": {
      "text/plain": [
       "PassengerId      0\n",
       "Survived         0\n",
       "Pclass           0\n",
       "Name             0\n",
       "Sex              0\n",
       "Age            177\n",
       "SibSp            0\n",
       "Parch            0\n",
       "Ticket           0\n",
       "Fare             0\n",
       "Cabin          687\n",
       "Embarked         2\n",
       "dtype: int64"
      ]
     },
     "execution_count": 5,
     "metadata": {},
     "output_type": "execute_result"
    }
   ],
   "source": [
    "titanic.isna().sum()"
   ]
  },
  {
   "cell_type": "code",
   "execution_count": 6,
   "id": "a5b89d90",
   "metadata": {
    "execution": {
     "iopub.execute_input": "2024-06-02T14:15:08.408602Z",
     "iopub.status.busy": "2024-06-02T14:15:08.408148Z",
     "iopub.status.idle": "2024-06-02T14:15:08.421836Z",
     "shell.execute_reply": "2024-06-02T14:15:08.420845Z"
    },
    "papermill": {
     "duration": 0.022234,
     "end_time": "2024-06-02T14:15:08.424148",
     "exception": false,
     "start_time": "2024-06-02T14:15:08.401914",
     "status": "completed"
    },
    "tags": []
   },
   "outputs": [
    {
     "data": {
      "text/plain": [
       "PassengerId      0\n",
       "Survived         0\n",
       "Pclass           0\n",
       "Sex              0\n",
       "Age            177\n",
       "Parch            0\n",
       "Fare             0\n",
       "Embarked         2\n",
       "dtype: int64"
      ]
     },
     "execution_count": 6,
     "metadata": {},
     "output_type": "execute_result"
    }
   ],
   "source": [
    "# dropping the unnecessary features\n",
    "unimportant = ['Cabin','SibSp','Name','Ticket']\n",
    "df = titanic.drop(columns = unimportant)\n",
    "df.isnull().sum()"
   ]
  },
  {
   "cell_type": "code",
   "execution_count": 7,
   "id": "1b59e153",
   "metadata": {
    "execution": {
     "iopub.execute_input": "2024-06-02T14:15:08.436341Z",
     "iopub.status.busy": "2024-06-02T14:15:08.435443Z",
     "iopub.status.idle": "2024-06-02T14:15:08.451465Z",
     "shell.execute_reply": "2024-06-02T14:15:08.450459Z"
    },
    "papermill": {
     "duration": 0.024301,
     "end_time": "2024-06-02T14:15:08.453559",
     "exception": false,
     "start_time": "2024-06-02T14:15:08.429258",
     "status": "completed"
    },
    "tags": []
   },
   "outputs": [
    {
     "name": "stdout",
     "output_type": "stream",
     "text": [
      "(889, 8)\n"
     ]
    },
    {
     "data": {
      "text/plain": [
       "PassengerId    0\n",
       "Survived       0\n",
       "Pclass         0\n",
       "Sex            0\n",
       "Age            0\n",
       "Parch          0\n",
       "Fare           0\n",
       "Embarked       0\n",
       "dtype: int64"
      ]
     },
     "execution_count": 7,
     "metadata": {},
     "output_type": "execute_result"
    }
   ],
   "source": [
    "# filling the na values\n",
    "import warnings\n",
    "warnings.filterwarnings('ignore')\n",
    "df['Age'].fillna(df['Age'].mode()[0],inplace=True)\n",
    "df.isnull().sum()\n",
    "df = df.dropna()\n",
    "print(df.shape)\n",
    "df.isnull().sum()"
   ]
  },
  {
   "cell_type": "code",
   "execution_count": 8,
   "id": "5aa826e9",
   "metadata": {
    "execution": {
     "iopub.execute_input": "2024-06-02T14:15:08.466369Z",
     "iopub.status.busy": "2024-06-02T14:15:08.465344Z",
     "iopub.status.idle": "2024-06-02T14:15:09.608723Z",
     "shell.execute_reply": "2024-06-02T14:15:09.607621Z"
    },
    "papermill": {
     "duration": 1.152775,
     "end_time": "2024-06-02T14:15:09.611515",
     "exception": false,
     "start_time": "2024-06-02T14:15:08.458740",
     "status": "completed"
    },
    "tags": []
   },
   "outputs": [
    {
     "name": "stdout",
     "output_type": "stream",
     "text": [
      "     PassengerId  Survived  Pclass  Sex   Age  Parch     Fare  Embarked\n",
      "0              1         0       3    1  22.0      0   7.2500         2\n",
      "1              2         1       1    0  38.0      0  71.2833         0\n",
      "2              3         1       3    0  26.0      0   7.9250         2\n",
      "3              4         1       1    0  35.0      0  53.1000         2\n",
      "4              5         0       3    1  35.0      0   8.0500         2\n",
      "..           ...       ...     ...  ...   ...    ...      ...       ...\n",
      "886          887         0       2    1  27.0      0  13.0000         2\n",
      "887          888         1       1    0  19.0      0  30.0000         2\n",
      "888          889         0       3    0  24.0      2  23.4500         2\n",
      "889          890         1       1    1  26.0      0  30.0000         0\n",
      "890          891         0       3    1  32.0      0   7.7500         1\n",
      "\n",
      "[889 rows x 8 columns]\n"
     ]
    }
   ],
   "source": [
    "#label encoding the age column\n",
    "from sklearn.preprocessing import LabelEncoder\n",
    "encoder = LabelEncoder()\n",
    "df['Sex'] = encoder.fit_transform(df['Sex'])\n",
    "df['Survived'] = encoder.fit_transform(df['Survived'])\n",
    "df['Embarked'] = encoder.fit_transform(df['Embarked'])\n",
    "print(df)"
   ]
  },
  {
   "cell_type": "code",
   "execution_count": 9,
   "id": "7e1ddb02",
   "metadata": {
    "execution": {
     "iopub.execute_input": "2024-06-02T14:15:09.625136Z",
     "iopub.status.busy": "2024-06-02T14:15:09.624706Z",
     "iopub.status.idle": "2024-06-02T14:15:10.043687Z",
     "shell.execute_reply": "2024-06-02T14:15:10.042565Z"
    },
    "papermill": {
     "duration": 0.428723,
     "end_time": "2024-06-02T14:15:10.046160",
     "exception": false,
     "start_time": "2024-06-02T14:15:09.617437",
     "status": "completed"
    },
    "tags": []
   },
   "outputs": [
    {
     "data": {
      "image/png": "[encoded data removed]",
      "text/plain": [
       "<Figure size 1000x1000 with 3 Axes>"
      ]
     },
     "metadata": {},
     "output_type": "display_data"
    }
   ],
   "source": [
    "import matplotlib.pyplot as plt\n",
    "\n",
    "plt.figure(figsize=[10,10])\n",
    "plt.subplot(2,2,1)\n",
    "plt.pie(df['Pclass'].value_counts(),labels=['Lower','Middle','Upper'],\n",
    "   autopct='%1.1f%%')\n",
    "plt.title('number of classes of people')\n",
    "plt.subplot(2,2,2)\n",
    "plt.pie(df['Embarked'].value_counts(),labels=['Cherbourg', 'Queenstown', 'Southampton'],\n",
    "   autopct='%1.1f%%')\n",
    "plt.title('number of people embarked from ports')\n",
    "plt.subplot(2,2,3)\n",
    "plt.pie(df['Sex'].value_counts(),labels=['Male','Female'],\n",
    "   autopct='%1.1f%%')\n",
    "plt.title('distribution of sex');"
   ]
  },
  {
   "cell_type": "code",
   "execution_count": 10,
   "id": "a3b63e9f",
   "metadata": {
    "execution": {
     "iopub.execute_input": "2024-06-02T14:15:10.060476Z",
     "iopub.status.busy": "2024-06-02T14:15:10.060099Z",
     "iopub.status.idle": "2024-06-02T14:15:10.081397Z",
     "shell.execute_reply": "2024-06-02T14:15:10.079818Z"
    },
    "papermill": {
     "duration": 0.031446,
     "end_time": "2024-06-02T14:15:10.083984",
     "exception": false,
     "start_time": "2024-06-02T14:15:10.052538",
     "status": "completed"
    },
    "tags": []
   },
   "outputs": [
    {
     "name": "stdout",
     "output_type": "stream",
     "text": [
      "<class 'pandas.core.frame.DataFrame'>\n",
      "RangeIndex: 418 entries, 0 to 417\n",
      "Data columns (total 7 columns):\n",
      " #   Column       Non-Null Count  Dtype  \n",
      "---  ------       --------------  -----  \n",
      " 0   PassengerId  418 non-null    int64  \n",
      " 1   Pclass       418 non-null    int64  \n",
      " 2   Sex          418 non-null    int64  \n",
      " 3   Age          418 non-null    float64\n",
      " 4   Parch        418 non-null    int64  \n",
      " 5   Fare         418 non-null    float64\n",
      " 6   Embarked     418 non-null    int64  \n",
      "dtypes: float64(2), int64(5)\n",
      "memory usage: 23.0 KB\n"
     ]
    }
   ],
   "source": [
    "X_test = pd.read_csv('/kaggle/input/titanic/test.csv')\n",
    "X_test = X_test.drop(columns=unimportant)\n",
    "X_test['Age'].fillna(X_test['Age'].mode()[0],inplace=True)\n",
    "X_test['Fare'].fillna(X_test['Fare'].mean(),inplace=True)\n",
    "X_test['Sex'] = encoder.fit_transform(X_test['Sex'])\n",
    "X_test['Embarked'] = encoder.fit_transform(X_test['Embarked'])\n",
    "X_test.info()"
   ]
  },
  {
   "cell_type": "code",
   "execution_count": 11,
   "id": "450f3987",
   "metadata": {
    "execution": {
     "iopub.execute_input": "2024-06-02T14:15:10.098617Z",
     "iopub.status.busy": "2024-06-02T14:15:10.098251Z",
     "iopub.status.idle": "2024-06-02T14:15:13.618062Z",
     "shell.execute_reply": "2024-06-02T14:15:13.617021Z"
    },
    "papermill": {
     "duration": 3.529866,
     "end_time": "2024-06-02T14:15:13.620377",
     "exception": false,
     "start_time": "2024-06-02T14:15:10.090511",
     "status": "completed"
    },
    "tags": []
   },
   "outputs": [
    {
     "name": "stdout",
     "output_type": "stream",
     "text": [
      "Logistic Regression: F1 Scores = 0.68662680282324\n",
      "Support Vector Machine: F1 Scores = 0.16188248860206303\n",
      "K-Nearest Neighbors: F1 Scores = 0.3452611260201345\n",
      "Decision Tree: F1 Scores = 0.6632951578835964\n",
      "Random Forest: F1 Scores = 0.6920504074349314\n",
      "Gradient Boosting: F1 Scores = 0.5948441282906148\n",
      "AdaBoost: F1 Scores = 0.46727334613777466\n",
      "Gaussian Naive Bayes: F1 Scores = 0.6871924731596353\n",
      "Linear Discriminant Analysis: F1 Scores = 0.7176420758671511\n",
      "Quadratic Discriminant Analysis: F1 Scores = 0.7152034457478005\n"
     ]
    }
   ],
   "source": [
    "from sklearn.linear_model import LogisticRegression\n",
    "from sklearn.svm import SVC\n",
    "from sklearn.neighbors import KNeighborsClassifier\n",
    "from sklearn.tree import DecisionTreeClassifier\n",
    "from sklearn.ensemble import RandomForestClassifier, GradientBoostingClassifier, AdaBoostClassifier\n",
    "from sklearn.naive_bayes import GaussianNB\n",
    "from sklearn.discriminant_analysis import LinearDiscriminantAnalysis, QuadraticDiscriminantAnalysis\n",
    "from sklearn.model_selection import cross_val_score\n",
    "\n",
    "y_train = df['Survived']\n",
    "X_train = df.drop(columns=['Survived'])\n",
    "\n",
    "classifiers = {\n",
    "    'Logistic Regression': LogisticRegression(),\n",
    "    'Support Vector Machine': SVC(),\n",
    "    'K-Nearest Neighbors': KNeighborsClassifier(),\n",
    "    'Decision Tree': DecisionTreeClassifier(),\n",
    "    'Random Forest': RandomForestClassifier(),\n",
    "    'Gradient Boosting': GradientBoostingClassifier(),\n",
    "    'AdaBoost': AdaBoostClassifier(),\n",
    "    'Gaussian Naive Bayes': GaussianNB(),\n",
    "    'Linear Discriminant Analysis': LinearDiscriminantAnalysis(),\n",
    "    'Quadratic Discriminant Analysis': QuadraticDiscriminantAnalysis()\n",
    "}\n",
    "\n",
    "for name, clf in classifiers.items():\n",
    "    scores = cross_val_score(clf, X_train, y_train, cv=5, scoring='f1')  # 5-fold cross-validation with F1 scoring\n",
    "    print(f'{name}: F1 Scores = {scores.mean()}')"
   ]
  },
  {
   "cell_type": "code",
   "execution_count": 12,
   "id": "67fa89bf",
   "metadata": {
    "execution": {
     "iopub.execute_input": "2024-06-02T14:15:13.635594Z",
     "iopub.status.busy": "2024-06-02T14:15:13.635215Z",
     "iopub.status.idle": "2024-06-02T14:15:13.892752Z",
     "shell.execute_reply": "2024-06-02T14:15:13.891616Z"
    },
    "papermill": {
     "duration": 0.268241,
     "end_time": "2024-06-02T14:15:13.895425",
     "exception": false,
     "start_time": "2024-06-02T14:15:13.627184",
     "status": "completed"
    },
    "tags": []
   },
   "outputs": [],
   "source": [
    "model = RandomForestClassifier()\n",
    "model.fit(X_train,y_train)\n",
    "prediction = model.predict(X_test)"
   ]
  },
  {
   "cell_type": "code",
   "execution_count": 13,
   "id": "8ed3bbb9",
   "metadata": {
    "execution": {
     "iopub.execute_input": "2024-06-02T14:15:13.911107Z",
     "iopub.status.busy": "2024-06-02T14:15:13.910275Z",
     "iopub.status.idle": "2024-06-02T14:15:13.926349Z",
     "shell.execute_reply": "2024-06-02T14:15:13.925160Z"
    },
    "papermill": {
     "duration": 0.026731,
     "end_time": "2024-06-02T14:15:13.929094",
     "exception": false,
     "start_time": "2024-06-02T14:15:13.902363",
     "status": "completed"
    },
    "tags": []
   },
   "outputs": [
    {
     "data": {
      "text/plain": [
       "PassengerId    0\n",
       "Survived       0\n",
       "dtype: int64"
      ]
     },
     "execution_count": 13,
     "metadata": {},
     "output_type": "execute_result"
    }
   ],
   "source": [
    "result = pd.read_csv('/kaggle/input/titanic/gender_submission.csv')\n",
    "result.head(2)\n",
    "result.isnull().sum()"
   ]
  },
  {
   "cell_type": "code",
   "execution_count": 14,
   "id": "82e86415",
   "metadata": {
    "execution": {
     "iopub.execute_input": "2024-06-02T14:15:13.944766Z",
     "iopub.status.busy": "2024-06-02T14:15:13.944357Z",
     "iopub.status.idle": "2024-06-02T14:15:13.956152Z",
     "shell.execute_reply": "2024-06-02T14:15:13.954949Z"
    },
    "papermill": {
     "duration": 0.02254,
     "end_time": "2024-06-02T14:15:13.958573",
     "exception": false,
     "start_time": "2024-06-02T14:15:13.936033",
     "status": "completed"
    },
    "tags": []
   },
   "outputs": [
    {
     "data": {
      "text/html": [
       "<div>\n",
       "<style scoped>\n",
       "    .dataframe tbody tr th:only-of-type {\n",
       "        vertical-align: middle;\n",
       "    }\n",
       "\n",
       "    .dataframe tbody tr th {\n",
       "        vertical-align: top;\n",
       "    }\n",
       "\n",
       "    .dataframe thead th {\n",
       "        text-align: right;\n",
       "    }\n",
       "</style>\n",
       "<table border=\"1\" class=\"dataframe\">\n",
       "  <thead>\n",
       "    <tr style=\"text-align: right;\">\n",
       "      <th></th>\n",
       "      <th>PassengerId</th>\n",
       "      <th>Survived</th>\n",
       "    </tr>\n",
       "  </thead>\n",
       "  <tbody>\n",
       "    <tr>\n",
       "      <th>0</th>\n",
       "      <td>892</td>\n",
       "      <td>0</td>\n",
       "    </tr>\n",
       "    <tr>\n",
       "      <th>1</th>\n",
       "      <td>893</td>\n",
       "      <td>0</td>\n",
       "    </tr>\n",
       "  </tbody>\n",
       "</table>\n",
       "</div>"
      ],
      "text/plain": [
       "   PassengerId  Survived\n",
       "0          892         0\n",
       "1          893         0"
      ]
     },
     "execution_count": 14,
     "metadata": {},
     "output_type": "execute_result"
    }
   ],
   "source": [
    "result.drop(columns=['Survived'],inplace=True)\n",
    "result['Survived'] = prediction\n",
    "result.head(2)"
   ]
  },
  {
   "cell_type": "code",
   "execution_count": 15,
   "id": "f7890f0c",
   "metadata": {
    "execution": {
     "iopub.execute_input": "2024-06-02T14:15:13.974540Z",
     "iopub.status.busy": "2024-06-02T14:15:13.974152Z",
     "iopub.status.idle": "2024-06-02T14:15:13.981645Z",
     "shell.execute_reply": "2024-06-02T14:15:13.980642Z"
    },
    "papermill": {
     "duration": 0.018305,
     "end_time": "2024-06-02T14:15:13.984180",
     "exception": false,
     "start_time": "2024-06-02T14:15:13.965875",
     "status": "completed"
    },
    "tags": []
   },
   "outputs": [],
   "source": [
    "result.to_csv( '/kaggle/working/submission.csv', index = False )"
   ]
  }
 ],
 "metadata": {
  "kaggle": {
   "accelerator": "none",
   "dataSources": [
    {
     "databundleVersionId": 26502,
     "sourceId": 3136,
     "sourceType": "competition"
    }
   ],
   "dockerImageVersionId": 30715,
   "isGpuEnabled": false,
   "isInternetEnabled": true,
   "language": "python",
   "sourceType": "notebook"
  },
  "kernelspec": {
   "display_name": "Python 3",
   "language": "python",
   "name": "python3"
  },
  "language_info": {
   "codemirror_mode": {
    "name": "ipython",
    "version": 3
   },
   "file_extension": ".py",
   "mimetype": "text/x-python",
   "name": "python",
   "nbconvert_exporter": "python",
   "pygments_lexer": "ipython3",
   "version": "3.10.13"
  },
  "papermill": {
   "default_parameters": {},
   "duration": 9.985319,
   "end_time": "2024-06-02T14:15:14.611654",
   "environment_variables": {},
   "exception": null,
   "input_path": "__notebook__.ipynb",
   "output_path": "__notebook__.ipynb",
   "parameters": {},
   "start_time": "2024-06-02T14:15:04.626335",
   "version": "2.5.0"
  }
 },
 "nbformat": 4,
 "nbformat_minor": 5
}
